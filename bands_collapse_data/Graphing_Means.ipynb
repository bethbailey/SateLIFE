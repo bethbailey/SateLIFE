{
 "cells": [
  {
   "cell_type": "code",
   "execution_count": 5,
   "metadata": {
    "collapsed": true
   },
   "outputs": [],
   "source": [
    "import pandas as pd\n",
    "import numpy as np\n",
    "import matplotlib.pyplot as plt"
   ]
  },
  {
   "cell_type": "code",
   "execution_count": 22,
   "metadata": {},
   "outputs": [],
   "source": [
    "df = pd.read_csv(\"means_by_year.csv\")\n",
    "std = pd.read_csv(\"stds_by_year.csv\")"
   ]
  },
  {
   "cell_type": "code",
   "execution_count": 43,
   "metadata": {},
   "outputs": [],
   "source": [
    "keys = df.columns[1:]"
   ]
  },
  {
   "cell_type": "code",
   "execution_count": 64,
   "metadata": {},
   "outputs": [],
   "source": [
    "x = df[\"Unnamed: 0\"].values\n",
    "for key in keys:\n",
    "    y = df[key].values\n",
    "    err = std[key].values\n",
    "    fig, ax = plt.subplots( nrows=1, ncols=1 )  # create figure & 1 axis\n",
    "    ax.plot(x, y)\n",
    "    plt.legend()\n",
    "    plt.title(\"{} Means Over Time\".format(key))\n",
    "    plt.xlabel(\"Year\")\n",
    "    plt.ylabel(\"Value\")\n",
    "    fig.savefig(\"Graphs/{}means.png\".format(key))   # save the figure to file\n",
    "    plt.close(fig)"
   ]
  },
  {
   "cell_type": "code",
   "execution_count": 55,
   "metadata": {
    "collapsed": true
   },
   "outputs": [],
   "source": [
    "df1 = pd.read_csv(\"maxs_by_year.csv\")\n",
    "keys1 = df1.columns[1:]"
   ]
  },
  {
   "cell_type": "code",
   "execution_count": 68,
   "metadata": {},
   "outputs": [],
   "source": [
    "x = df1[\"Unnamed: 0\"].values\n",
    "for key in keys1:\n",
    "    y = df1[key].values\n",
    "    fig, ax = plt.subplots( nrows=1, ncols=1 )  # create figure & 1 axis\n",
    "    ax.plot(x, y)\n",
    "    plt.legend()\n",
    "    plt.title(\"{} Maxes Over Time\".format(key))\n",
    "    plt.xlabel(\"Year\")\n",
    "    plt.ylabel(\"Value\")\n",
    "    fig.savefig(\"Graphs/{}maxes.png\".format(key))   # save the figure to file\n",
    "    plt.close(fig)"
   ]
  },
  {
   "cell_type": "code",
   "execution_count": 58,
   "metadata": {
    "collapsed": true
   },
   "outputs": [],
   "source": [
    "df2 = pd.read_csv(\"mins_by_year.csv\")\n",
    "keys2 = df2.columns[1:]"
   ]
  },
  {
   "cell_type": "code",
   "execution_count": 66,
   "metadata": {
    "collapsed": true
   },
   "outputs": [],
   "source": [
    "x = df2[\"Unnamed: 0\"].values\n",
    "for key in keys2:\n",
    "    y = df2[key].values\n",
    "    fig, ax = plt.subplots( nrows=1, ncols=1 )  # create figure & 1 axis\n",
    "    ax.plot(x, y)\n",
    "    plt.legend()\n",
    "    plt.title(\"{} Mins Over Time\".format(key))\n",
    "    plt.xlabel(\"Year\")\n",
    "    plt.ylabel(\"Value\")\n",
    "    fig.savefig(\"Graphs/{}mins.png\".format(key))   # save the figure to file\n",
    "    plt.close(fig)"
   ]
  },
  {
   "cell_type": "code",
   "execution_count": 60,
   "metadata": {
    "collapsed": true
   },
   "outputs": [],
   "source": [
    "keys3 = std.columns[1:]"
   ]
  },
  {
   "cell_type": "code",
   "execution_count": 65,
   "metadata": {
    "collapsed": true
   },
   "outputs": [],
   "source": [
    "x = std[\"Unnamed: 0\"].values\n",
    "for key in keys3:\n",
    "    y = std[key].values\n",
    "    fig, ax = plt.subplots( nrows=1, ncols=1 )  # create figure & 1 axis\n",
    "    ax.plot(x, y)\n",
    "    plt.legend()\n",
    "    plt.title(\"{} Standard Deviations Over Time\".format(key))\n",
    "    plt.xlabel(\"Year\")\n",
    "    plt.ylabel(\"Value\")\n",
    "    fig.savefig(\"Graphs/{}std.png\".format(key))   # save the figure to file\n",
    "    plt.close(fig)"
   ]
  },
  {
   "cell_type": "code",
   "execution_count": null,
   "metadata": {
    "collapsed": true
   },
   "outputs": [],
   "source": []
  }
 ],
 "metadata": {
  "kernelspec": {
   "display_name": "Python 3",
   "language": "python",
   "name": "python3"
  },
  "language_info": {
   "codemirror_mode": {
    "name": "ipython",
    "version": 3
   },
   "file_extension": ".py",
   "mimetype": "text/x-python",
   "name": "python",
   "nbconvert_exporter": "python",
   "pygments_lexer": "ipython3",
   "version": "3.6.3"
  }
 },
 "nbformat": 4,
 "nbformat_minor": 2
}
